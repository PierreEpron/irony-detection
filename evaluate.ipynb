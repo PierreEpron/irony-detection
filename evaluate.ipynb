{
 "cells": [
  {
   "cell_type": "code",
   "execution_count": null,
   "metadata": {},
   "outputs": [],
   "source": [
    "from sklearn.metrics import classification_report, confusion_matrix, ConfusionMatrixDisplay, matthews_corrcoef\n",
    "from datasets import load_dataset\n",
    "import pandas as pd\n",
    "from sklearn.model_selection import GridSearchCV, train_test_split\n",
    "from src.preprocessing import make_dataset, recover_split\n",
    "from src.utils import read_jsonl\n",
    "import numpy as np\n",
    "import seaborn as sns"
   ]
  },
  {
   "cell_type": "code",
   "execution_count": null,
   "metadata": {},
   "outputs": [],
   "source": [
    "DATASET_NAME = \"CreativeLang/EPIC_Irony\"\n",
    "df = make_dataset(pd.DataFrame(load_dataset(DATASET_NAME)['train']))"
   ]
  },
  {
   "cell_type": "code",
   "execution_count": null,
   "metadata": {},
   "outputs": [],
   "source": [
    "def get_golds_preds(split):\n",
    "    golds = [item['gold'] for item in split]\n",
    "    preds = [item['pred'] for item in split]\n",
    "    return golds, preds\n",
    "\n",
    "def evaluate_result(result):\n",
    "    outputs = []\n",
    "    for split in result:\n",
    "        outputs.append(evaluate_split(split))\n",
    "    return outputs\n",
    "\n",
    "def evaluate_split(split):\n",
    "    golds, preds = get_golds_preds(split)\n",
    "    outputs = classification_report(golds, preds, output_dict=True)\n",
    "    outputs['mcc'] = matthews_corrcoef(golds, preds)\n",
    "    return outputs\n",
    "\n",
    "def group_metric(metrics, k, kk=None):\n",
    "    if kk==None:\n",
    "        values = [m[k] for m in metrics]\n",
    "    else:\n",
    "        values = [m[k][kk] for m in metrics]\n",
    "    return np.round(np.min(values), 4), np.round(np.mean(values), 4), np.round(np.max(values), 4), np.round(np.std(values), 4)\n",
    "\n",
    "def compute_metric_stats(metrics):\n",
    "    for k, v in metrics[0].items():\n",
    "        if isinstance(v, dict):\n",
    "            for kk, vv in v.items():\n",
    "                print(k, kk, group_metric(metrics, k, kk))\n",
    "        else:\n",
    "            print(k, group_metric(metrics, k))"
   ]
  },
  {
   "cell_type": "code",
   "execution_count": null,
   "metadata": {},
   "outputs": [],
   "source": [
    "data = read_jsonl('results/clm_llama_nt.jsonl')\n",
    "metrics = evaluate_result(data)\n",
    "compute_metric_stats(metrics)"
   ]
  },
  {
   "cell_type": "code",
   "execution_count": null,
   "metadata": {},
   "outputs": [],
   "source": [
    "ConfusionMatrixDisplay(confusion_matrix(*get_golds_preds(data[0]))).plot()"
   ]
  },
  {
   "cell_type": "code",
   "execution_count": null,
   "metadata": {},
   "outputs": [],
   "source": [
    "recover_split([item['id_original'] for item in read_jsonl('results/clm_llama_nt.jsonl')[1] if item['gold'] == 1 and item['pred'] == 1], df)"
   ]
  },
  {
   "cell_type": "markdown",
   "metadata": {},
   "source": [
    "## Losses "
   ]
  },
  {
   "cell_type": "code",
   "execution_count": null,
   "metadata": {},
   "outputs": [],
   "source": [
    "def plot_loss(states):\n",
    "    best_split = np.argmax([state['best_metric'] for state in states])\n",
    "    states[best_split]\n",
    "    losses = []\n",
    "\n",
    "    for i in range(0, len(states[best_split]['log_history'])-1, 2):\n",
    "        losses.append((i / 2, states[best_split]['log_history'][i]['loss'], 'train'))\n",
    "        losses.append((i / 2, states[best_split]['log_history'][i+1]['eval_loss'], 'val'))\n",
    "    \n",
    "\n",
    "    losses_df = pd.DataFrame(losses, columns=['epoch', 'loss', 'train_val'])\n",
    "\n",
    "    sns.lineplot(\n",
    "        data = losses_df,\n",
    "        x = 'epoch',\n",
    "        y = 'loss',\n",
    "        hue = 'train_val'\n",
    "    )\n",
    "    "
   ]
  },
  {
   "cell_type": "code",
   "execution_count": null,
   "metadata": {},
   "outputs": [],
   "source": [
    "states = read_jsonl('results/roberta-irony-ft_loss.jsonl')\n",
    "plot_loss(states)"
   ]
  },
  {
   "cell_type": "code",
   "execution_count": null,
   "metadata": {},
   "outputs": [],
   "source": []
  }
 ],
 "metadata": {
  "kernelspec": {
   "display_name": "irony",
   "language": "python",
   "name": "python3"
  },
  "language_info": {
   "codemirror_mode": {
    "name": "ipython",
    "version": 3
   },
   "file_extension": ".py",
   "mimetype": "text/x-python",
   "name": "python",
   "nbconvert_exporter": "python",
   "pygments_lexer": "ipython3",
   "version": "3.10.13"
  }
 },
 "nbformat": 4,
 "nbformat_minor": 2
}
