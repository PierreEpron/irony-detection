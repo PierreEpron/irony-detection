{
 "cells": [
  {
   "cell_type": "code",
   "execution_count": 2,
   "metadata": {},
   "outputs": [
    {
     "name": "stderr",
     "output_type": "stream",
     "text": [
      "c:\\Users\\pierr\\.conda\\envs\\irony\\lib\\site-packages\\tqdm\\auto.py:21: TqdmWarning: IProgress not found. Please update jupyter and ipywidgets. See https://ipywidgets.readthedocs.io/en/stable/user_install.html\n",
      "  from .autonotebook import tqdm as notebook_tqdm\n"
     ]
    }
   ],
   "source": [
    "from sklearn.metrics import classification_report, confusion_matrix, ConfusionMatrixDisplay, matthews_corrcoef\n",
    "import pandas as pd\n",
    "from src.utils import read_jsonl\n",
    "import numpy as np\n",
    "import seaborn as sns\n",
    "import matplotlib.pyplot as plt\n",
    "from pathlib import Path\n",
    "import json\n",
    "import torch"
   ]
  },
  {
   "cell_type": "code",
   "execution_count": 7,
   "metadata": {},
   "outputs": [],
   "source": [
    "def get_golds_preds(split):\n",
    "    golds = [item['gold'] for item in split]\n",
    "    preds = [item['pred'] for item in split]\n",
    "    return golds, preds\n",
    "\n",
    "def evaluate_split(split):\n",
    "    golds, preds = get_golds_preds(split)\n",
    "    outputs = classification_report(golds, preds, output_dict=True)\n",
    "    outputs['mcc'] = matthews_corrcoef(golds, preds)\n",
    "    return outputs\n",
    "\n",
    "def group_metric(metrics, k, kk=None):\n",
    "    if kk==None:\n",
    "        values = [m[k] for m in metrics]\n",
    "    else:\n",
    "        values = [m[k][kk] for m in metrics]\n",
    "    return np.round(np.min(values), 3), f'{np.round(np.mean(values), 3)}({np.round(np.std(values), 3)})', np.round(np.max(values), 3), \n",
    "\n",
    "def compute_metric_stats(metrics):\n",
    "    for k, v in metrics[0].items():\n",
    "        if isinstance(v, dict):\n",
    "            for kk, vv in v.items():\n",
    "                print(k, kk, group_metric(metrics, k, kk))\n",
    "        else:\n",
    "            print(k, group_metric(metrics, k))"
   ]
  },
  {
   "cell_type": "markdown",
   "metadata": {},
   "source": [
    "### cardiff_tweeteval_mcc"
   ]
  },
  {
   "cell_type": "code",
   "execution_count": 12,
   "metadata": {},
   "outputs": [
    {
     "name": "stdout",
     "output_type": "stream",
     "text": [
      "#####0#####\n",
      "473\n",
      "473\n",
      "473\n",
      "473\n",
      "473\n",
      "0 precision (0.849, '0.871(0.014)', 0.886)\n",
      "0 recall (0.678, '0.723(0.041)', 0.788)\n",
      "0 f1-score (0.764, '0.789(0.019)', 0.817)\n",
      "0 support (292.0, '292.0(0.0)', 292.0)\n",
      "1 precision (0.619, '0.651(0.027)', 0.693)\n",
      "1 recall (0.773, '0.825(0.031)', 0.851)\n",
      "1 f1-score (0.715, '0.727(0.008)', 0.739)\n",
      "1 support (181.0, '181.0(0.0)', 181.0)\n",
      "accuracy (0.742, '0.762(0.015)', 0.782)\n",
      "macro avg precision (0.748, '0.761(0.009)', 0.771)\n",
      "macro avg recall (0.762, '0.774(0.008)', 0.785)\n",
      "macro avg f1-score (0.74, '0.758(0.013)', 0.774)\n",
      "macro avg support (473.0, '473.0(0.0)', 473.0)\n",
      "weighted avg precision (0.778, '0.787(0.006)', 0.797)\n",
      "weighted avg recall (0.742, '0.762(0.015)', 0.782)\n",
      "weighted avg f1-score (0.746, '0.765(0.014)', 0.784)\n",
      "weighted avg support (473.0, '473.0(0.0)', 473.0)\n",
      "mcc (0.509, '0.535(0.017)', 0.554)\n",
      "#####1#####\n",
      "164\n",
      "164\n",
      "164\n",
      "164\n",
      "164\n",
      "0 precision (0.835, '0.867(0.028)', 0.907)\n",
      "0 recall (0.695, '0.731(0.037)', 0.8)\n",
      "0 f1-score (0.775, '0.792(0.015)', 0.817)\n",
      "0 support (95.0, '95.0(0.0)', 95.0)\n",
      "1 precision (0.674, '0.696(0.023)', 0.74)\n",
      "1 recall (0.783, '0.843(0.043)', 0.899)\n",
      "1 f1-score (0.747, '0.762(0.014)', 0.785)\n",
      "1 support (69.0, '69.0(0.0)', 69.0)\n",
      "accuracy (0.762, '0.778(0.013)', 0.793)\n",
      "macro avg precision (0.767, '0.782(0.013)', 0.802)\n",
      "macro avg recall (0.773, '0.787(0.013)', 0.807)\n",
      "macro avg f1-score (0.761, '0.777(0.012)', 0.792)\n",
      "macro avg support (164.0, '164.0(0.0)', 164.0)\n",
      "weighted avg precision (0.779, '0.795(0.014)', 0.818)\n",
      "weighted avg recall (0.762, '0.778(0.013)', 0.793)\n",
      "weighted avg f1-score (0.764, '0.779(0.012)', 0.794)\n",
      "weighted avg support (164.0, '164.0(0.0)', 164.0)\n",
      "mcc (0.54, '0.569(0.026)', 0.609)\n",
      "#####2#####\n",
      "85\n",
      "85\n",
      "85\n",
      "85\n",
      "85\n",
      "0 precision (0.756, '0.786(0.035)', 0.853)\n",
      "0 recall (0.592, '0.661(0.067)', 0.776)\n",
      "0 f1-score (0.689, '0.715(0.03)', 0.768)\n",
      "0 support (49.0, '49.0(0.0)', 49.0)\n",
      "1 precision (0.591, '0.623(0.035)', 0.686)\n",
      "1 recall (0.667, '0.75(0.066)', 0.861)\n",
      "1 f1-score (0.65, '0.678(0.02)', 0.713)\n",
      "1 support (36.0, '36.0(0.0)', 36.0)\n",
      "accuracy (0.671, '0.699(0.021)', 0.729)\n",
      "macro avg precision (0.674, '0.705(0.021)', 0.73)\n",
      "macro avg recall (0.677, '0.706(0.018)', 0.726)\n",
      "macro avg f1-score (0.669, '0.696(0.018)', 0.722)\n",
      "macro avg support (85.0, '85.0(0.0)', 85.0)\n",
      "weighted avg precision (0.686, '0.717(0.021)', 0.749)\n",
      "weighted avg recall (0.671, '0.699(0.021)', 0.729)\n",
      "weighted avg f1-score (0.672, '0.699(0.02)', 0.729)\n",
      "weighted avg support (85.0, '85.0(0.0)', 85.0)\n",
      "mcc (0.351, '0.41(0.038)', 0.457)\n",
      "#####3#####\n",
      "62\n",
      "62\n",
      "62\n",
      "62\n",
      "62\n",
      "0 precision (0.833, '0.87(0.026)', 0.913)\n",
      "0 recall (0.405, '0.551(0.09)', 0.676)\n",
      "0 f1-score (0.545, '0.671(0.073)', 0.758)\n",
      "0 support (37.0, '37.0(0.0)', 37.0)\n",
      "1 precision (0.5, '0.574(0.046)', 0.636)\n",
      "1 recall (0.84, '0.88(0.025)', 0.92)\n",
      "1 f1-score (0.638, '0.693(0.032)', 0.724)\n",
      "1 support (25.0, '25.0(0.0)', 25.0)\n",
      "accuracy (0.597, '0.684(0.051)', 0.742)\n",
      "macro avg precision (0.667, '0.722(0.032)', 0.751)\n",
      "macro avg recall (0.643, '0.716(0.042)', 0.758)\n",
      "macro avg f1-score (0.592, '0.682(0.052)', 0.741)\n",
      "macro avg support (62.0, '62.0(0.0)', 62.0)\n",
      "weighted avg precision (0.699, '0.751(0.03)', 0.783)\n",
      "weighted avg recall (0.597, '0.684(0.051)', 0.742)\n",
      "weighted avg f1-score (0.583, '0.68(0.056)', 0.744)\n",
      "weighted avg support (62.0, '62.0(0.0)', 62.0)\n",
      "mcc (0.308, '0.438(0.074)', 0.507)\n"
     ]
    }
   ],
   "source": [
    "df = pd.read_csv('data/sem-eval/test.txt', sep='\\t')\n",
    "\n",
    "for label in sorted(df['Label'].unique()):\n",
    "    print(\"#####\" + str(label) + \"#####\")\n",
    "    metrics = []\n",
    "    for path in Path('results/cardiff_tweeteval_mcc').glob('*_predictions_*.jsonl'):\n",
    "        data = read_jsonl(path)\n",
    "        data = list(filter(lambda x: x['id_original'].startswith('test'), data))\n",
    "        df['pred'] = [item['pred'] for item in data]\n",
    "        df['gold'] = [item['gold'] for item in data]\n",
    "        metrics.append(evaluate_split(df[df['Label'] == label].to_dict(orient='records')))\n",
    "    compute_metric_stats(metrics)"
   ]
  },
  {
   "cell_type": "code",
   "execution_count": 6,
   "metadata": {},
   "outputs": [
    {
     "name": "stdout",
     "output_type": "stream",
     "text": [
      "0 precision (0.837, '0.861(0.016)', 0.88)\n",
      "0 recall (0.66, '0.705(0.045)', 0.78)\n",
      "0 f1-score (0.748, '0.774(0.021)', 0.807)\n",
      "0 support (473.0, '473.0(0.0)', 473.0)\n",
      "1 precision (0.619, '0.65(0.027)', 0.697)\n",
      "1 recall (0.768, '0.825(0.034)', 0.862)\n",
      "1 f1-score (0.714, '0.726(0.007)', 0.733)\n",
      "1 support (311.0, '311.0(0.0)', 311.0)\n",
      "accuracy (0.732, '0.753(0.015)', 0.776)\n",
      "macro avg precision (0.742, '0.755(0.008)', 0.767)\n",
      "macro avg recall (0.751, '0.765(0.008)', 0.774)\n",
      "macro avg f1-score (0.731, '0.75(0.013)', 0.769)\n",
      "macro avg support (784.0, '784.0(0.0)', 784.0)\n",
      "weighted avg precision (0.767, '0.777(0.006)', 0.784)\n",
      "weighted avg recall (0.732, '0.753(0.015)', 0.776)\n",
      "weighted avg f1-score (0.735, '0.755(0.014)', 0.777)\n",
      "weighted avg support (784.0, '784.0(0.0)', 784.0)\n",
      "mcc (0.493, '0.52(0.016)', 0.541)\n"
     ]
    },
    {
     "data": {
      "text/plain": [
       "<seaborn.axisgrid.FacetGrid at 0x16ed2dd4550>"
      ]
     },
     "execution_count": 6,
     "metadata": {},
     "output_type": "execute_result"
    },
    {
     "data": {
      "image/png": "[encoded data removed]",
      "text/plain": [
       "<Figure size 500x500 with 1 Axes>"
      ]
     },
     "metadata": {},
     "output_type": "display_data"
    }
   ],
   "source": [
    "metrics = []\n",
    "scores = []\n",
    "for path in Path('results/cardiff_tweeteval_mcc').glob('*_predictions_*.jsonl'):\n",
    "    data = read_jsonl(path)\n",
    "    metrics.append(evaluate_split(data))\n",
    "    scores += [item['score'][1] for item in data]\n",
    "compute_metric_stats(metrics)\n",
    "sns.displot(scores)"
   ]
  },
  {
   "cell_type": "code",
   "execution_count": 9,
   "metadata": {},
   "outputs": [
    {
     "data": {
      "text/plain": [
       "count     5.000000\n",
       "mean     19.200000\n",
       "std       4.658326\n",
       "min      13.000000\n",
       "25%      16.000000\n",
       "50%      20.000000\n",
       "75%      23.000000\n",
       "max      24.000000\n",
       "dtype: float64"
      ]
     },
     "execution_count": 9,
     "metadata": {},
     "output_type": "execute_result"
    }
   ],
   "source": [
    "logs = []\n",
    "for path in Path('results/cardiff_tweeteval_mcc').glob('*_logs_*.csv'):\n",
    "    logs.append(pd.read_csv(path))\n",
    "pd.Series([len(log) / 2 for log in logs]).describe()"
   ]
  },
  {
   "cell_type": "code",
   "execution_count": 27,
   "metadata": {},
   "outputs": [
    {
     "data": {
      "text/plain": [
       "<Axes: xlabel='epoch', ylabel='loss'>"
      ]
     },
     "execution_count": 27,
     "metadata": {},
     "output_type": "execute_result"
    },
    {
     "data": {
      "image/png": "[encoded data removed]",
      "text/plain": [
       "<Figure size 640x480 with 1 Axes>"
      ]
     },
     "metadata": {},
     "output_type": "display_data"
    }
   ],
   "source": [
    "logs = []\n",
    "for path in Path('results/cardiff_tweeteval_bce').glob('*_logs_*.csv'):\n",
    "    logs.append(pd.read_csv(path))\n",
    "\n",
    "df = logs[1]\n",
    "rows = []\n",
    "for epoch in df['epoch'].unique():\n",
    "    x = df[df['epoch'] == epoch].tail(2).reset_index()\n",
    "    rows.append((epoch, x['train_loss'].values[1], 'train'))\n",
    "    rows.append((epoch, x['val_loss'].values[0], 'val'))\n",
    "df.head()\n",
    "sns.lineplot(pd.DataFrame(rows, columns=['epoch', 'loss', 'loop']), x='epoch', y='loss', hue=\"loop\")"
   ]
  },
  {
   "cell_type": "markdown",
   "metadata": {},
   "source": [
    "### cardiff_tweeteval_bce"
   ]
  },
  {
   "cell_type": "code",
   "execution_count": 11,
   "metadata": {},
   "outputs": [
    {
     "name": "stdout",
     "output_type": "stream",
     "text": [
      "#####0#####\n",
      "0 precision (0.831, 0.862, 0.907, 0.027)\n",
      "0 recall (0.668, 0.754, 0.842, 0.066)\n",
      "0 f1-score (0.769, 0.802, 0.837, 0.027)\n",
      "0 support (292.0, 292.0, 292.0, 0.0)\n",
      "1 precision (0.624, 0.675, 0.74, 0.046)\n",
      "1 recall (0.724, 0.8, 0.89, 0.06)\n",
      "1 f1-score (0.719, 0.728, 0.733, 0.005)\n",
      "1 support (181.0, 181.0, 181.0, 0.0)\n",
      "accuracy (0.753, 0.772, 0.797, 0.019)\n",
      "macro avg precision (0.752, 0.768, 0.786, 0.012)\n",
      "macro avg recall (0.767, 0.777, 0.783, 0.006)\n",
      "macro avg f1-score (0.749, 0.765, 0.784, 0.015)\n",
      "macro avg support (473.0, 473.0, 473.0, 0.0)\n",
      "weighted avg precision (0.78, 0.79, 0.799, 0.007)\n",
      "weighted avg recall (0.753, 0.772, 0.797, 0.019)\n",
      "weighted avg f1-score (0.756, 0.774, 0.797, 0.017)\n",
      "weighted avg support (473.0, 473.0, 473.0, 0.0)\n",
      "mcc (0.519, 0.545, 0.569, 0.018)\n",
      "#####2#####\n",
      "0 precision (0.709, 0.755, 0.811, 0.034)\n",
      "0 recall (0.612, 0.722, 0.796, 0.076)\n",
      "0 f1-score (0.698, 0.734, 0.765, 0.028)\n",
      "0 support (49.0, 49.0, 49.0, 0.0)\n",
      "1 precision (0.604, 0.646, 0.688, 0.035)\n",
      "1 recall (0.556, 0.672, 0.806, 0.087)\n",
      "1 f1-score (0.606, 0.654, 0.69, 0.028)\n",
      "1 support (36.0, 36.0, 36.0, 0.0)\n",
      "accuracy (0.682, 0.701, 0.718, 0.014)\n",
      "macro avg precision (0.683, 0.7, 0.712, 0.012)\n",
      "macro avg recall (0.676, 0.697, 0.711, 0.014)\n",
      "macro avg f1-score (0.678, 0.694, 0.711, 0.013)\n",
      "macro avg support (85.0, 85.0, 85.0, 0.0)\n",
      "weighted avg precision (0.691, 0.709, 0.723, 0.013)\n",
      "weighted avg recall (0.682, 0.701, 0.718, 0.014)\n",
      "weighted avg f1-score (0.684, 0.7, 0.718, 0.014)\n",
      "weighted avg support (85.0, 85.0, 85.0, 0.0)\n",
      "mcc (0.363, 0.398, 0.422, 0.025)\n",
      "#####1#####\n",
      "0 precision (0.811, 0.833, 0.849, 0.013)\n",
      "0 recall (0.653, 0.754, 0.811, 0.059)\n",
      "0 f1-score (0.734, 0.79, 0.824, 0.032)\n",
      "0 support (95.0, 95.0, 95.0, 0.0)\n",
      "1 precision (0.633, 0.704, 0.75, 0.043)\n",
      "1 recall (0.739, 0.791, 0.826, 0.03)\n",
      "1 f1-score (0.717, 0.743, 0.766, 0.018)\n",
      "1 support (69.0, 69.0, 69.0, 0.0)\n",
      "accuracy (0.726, 0.77, 0.799, 0.026)\n",
      "macro avg precision (0.736, 0.768, 0.793, 0.021)\n",
      "macro avg recall (0.739, 0.772, 0.797, 0.021)\n",
      "macro avg f1-score (0.725, 0.767, 0.795, 0.025)\n",
      "macro avg support (164.0, 164.0, 164.0, 0.0)\n",
      "weighted avg precision (0.752, 0.779, 0.8, 0.018)\n",
      "weighted avg recall (0.726, 0.77, 0.799, 0.026)\n",
      "weighted avg f1-score (0.727, 0.77, 0.799, 0.026)\n",
      "weighted avg support (164.0, 164.0, 164.0, 0.0)\n",
      "mcc (0.475, 0.541, 0.59, 0.041)\n",
      "#####3#####\n",
      "0 precision (0.812, 0.854, 0.905, 0.034)\n",
      "0 recall (0.514, 0.632, 0.757, 0.088)\n",
      "0 f1-score (0.655, 0.721, 0.789, 0.047)\n",
      "0 support (37.0, 37.0, 37.0, 0.0)\n",
      "1 precision (0.561, 0.61, 0.679, 0.042)\n",
      "1 recall (0.76, 0.832, 0.92, 0.064)\n",
      "1 f1-score (0.691, 0.701, 0.717, 0.009)\n",
      "1 support (25.0, 25.0, 25.0, 0.0)\n",
      "accuracy (0.677, 0.713, 0.758, 0.028)\n",
      "macro avg precision (0.723, 0.732, 0.751, 0.01)\n",
      "macro avg recall (0.717, 0.732, 0.758, 0.014)\n",
      "macro avg f1-score (0.676, 0.711, 0.753, 0.026)\n",
      "macro avg support (62.0, 62.0, 62.0, 0.0)\n",
      "weighted avg precision (0.74, 0.755, 0.766, 0.01)\n",
      "weighted avg recall (0.677, 0.713, 0.758, 0.028)\n",
      "weighted avg f1-score (0.672, 0.713, 0.76, 0.03)\n",
      "weighted avg support (62.0, 62.0, 62.0, 0.0)\n",
      "mcc (0.449, 0.464, 0.509, 0.023)\n"
     ]
    }
   ],
   "source": [
    "df = pd.read_csv('data/sem-eval/test.txt', sep='\\t')\n",
    "\n",
    "for label in df['Label'].unique():\n",
    "    print(\"#####\" + str(label) + \"#####\")\n",
    "    metrics = []\n",
    "    for path in Path('results/cardiff_tweeteval_bce').glob('*_predictions_*.jsonl'):\n",
    "        data = read_jsonl(path)\n",
    "        df['pred'] = [item['pred'] for item in data]\n",
    "        df['gold'] = [item['gold'] for item in data]\n",
    "        metrics.append(evaluate_split(df[df['Label'] == label].to_dict(orient='records')))\n",
    "    compute_metric_stats(metrics)"
   ]
  },
  {
   "cell_type": "code",
   "execution_count": 13,
   "metadata": {},
   "outputs": [
    {
     "name": "stdout",
     "output_type": "stream",
     "text": [
      "#####0#####\n",
      "0 precision (0.831, '0.862(0.027)', 0.907)\n",
      "0 recall (0.668, '0.754(0.066)', 0.842)\n",
      "0 f1-score (0.769, '0.802(0.027)', 0.837)\n",
      "0 support (292.0, '292.0(0.0)', 292.0)\n",
      "1 precision (0.624, '0.675(0.046)', 0.74)\n",
      "1 recall (0.724, '0.8(0.06)', 0.89)\n",
      "1 f1-score (0.719, '0.728(0.005)', 0.733)\n",
      "1 support (181.0, '181.0(0.0)', 181.0)\n",
      "accuracy (0.753, '0.772(0.019)', 0.797)\n",
      "macro avg precision (0.752, '0.768(0.012)', 0.786)\n",
      "macro avg recall (0.767, '0.777(0.006)', 0.783)\n",
      "macro avg f1-score (0.749, '0.765(0.015)', 0.784)\n",
      "macro avg support (473.0, '473.0(0.0)', 473.0)\n",
      "weighted avg precision (0.78, '0.79(0.007)', 0.799)\n",
      "weighted avg recall (0.753, '0.772(0.019)', 0.797)\n",
      "weighted avg f1-score (0.756, '0.774(0.017)', 0.797)\n",
      "weighted avg support (473.0, '473.0(0.0)', 473.0)\n",
      "mcc (0.519, '0.545(0.018)', 0.569)\n",
      "#####1#####\n",
      "0 precision (0.811, '0.833(0.013)', 0.849)\n",
      "0 recall (0.653, '0.754(0.059)', 0.811)\n",
      "0 f1-score (0.734, '0.79(0.032)', 0.824)\n",
      "0 support (95.0, '95.0(0.0)', 95.0)\n",
      "1 precision (0.633, '0.704(0.043)', 0.75)\n",
      "1 recall (0.739, '0.791(0.03)', 0.826)\n",
      "1 f1-score (0.717, '0.743(0.018)', 0.766)\n",
      "1 support (69.0, '69.0(0.0)', 69.0)\n",
      "accuracy (0.726, '0.77(0.026)', 0.799)\n",
      "macro avg precision (0.736, '0.768(0.021)', 0.793)\n",
      "macro avg recall (0.739, '0.772(0.021)', 0.797)\n",
      "macro avg f1-score (0.725, '0.767(0.025)', 0.795)\n",
      "macro avg support (164.0, '164.0(0.0)', 164.0)\n",
      "weighted avg precision (0.752, '0.779(0.018)', 0.8)\n",
      "weighted avg recall (0.726, '0.77(0.026)', 0.799)\n",
      "weighted avg f1-score (0.727, '0.77(0.026)', 0.799)\n",
      "weighted avg support (164.0, '164.0(0.0)', 164.0)\n",
      "mcc (0.475, '0.541(0.041)', 0.59)\n",
      "#####2#####\n",
      "0 precision (0.709, '0.755(0.034)', 0.811)\n",
      "0 recall (0.612, '0.722(0.076)', 0.796)\n",
      "0 f1-score (0.698, '0.734(0.028)', 0.765)\n",
      "0 support (49.0, '49.0(0.0)', 49.0)\n",
      "1 precision (0.604, '0.646(0.035)', 0.688)\n",
      "1 recall (0.556, '0.672(0.087)', 0.806)\n",
      "1 f1-score (0.606, '0.654(0.028)', 0.69)\n",
      "1 support (36.0, '36.0(0.0)', 36.0)\n",
      "accuracy (0.682, '0.701(0.014)', 0.718)\n",
      "macro avg precision (0.683, '0.7(0.012)', 0.712)\n",
      "macro avg recall (0.676, '0.697(0.014)', 0.711)\n",
      "macro avg f1-score (0.678, '0.694(0.013)', 0.711)\n",
      "macro avg support (85.0, '85.0(0.0)', 85.0)\n",
      "weighted avg precision (0.691, '0.709(0.013)', 0.723)\n",
      "weighted avg recall (0.682, '0.701(0.014)', 0.718)\n",
      "weighted avg f1-score (0.684, '0.7(0.014)', 0.718)\n",
      "weighted avg support (85.0, '85.0(0.0)', 85.0)\n",
      "mcc (0.363, '0.398(0.025)', 0.422)\n",
      "#####3#####\n",
      "0 precision (0.812, '0.854(0.034)', 0.905)\n",
      "0 recall (0.514, '0.632(0.088)', 0.757)\n",
      "0 f1-score (0.655, '0.721(0.047)', 0.789)\n",
      "0 support (37.0, '37.0(0.0)', 37.0)\n",
      "1 precision (0.561, '0.61(0.042)', 0.679)\n",
      "1 recall (0.76, '0.832(0.064)', 0.92)\n",
      "1 f1-score (0.691, '0.701(0.009)', 0.717)\n",
      "1 support (25.0, '25.0(0.0)', 25.0)\n",
      "accuracy (0.677, '0.713(0.028)', 0.758)\n",
      "macro avg precision (0.723, '0.732(0.01)', 0.751)\n",
      "macro avg recall (0.717, '0.732(0.014)', 0.758)\n",
      "macro avg f1-score (0.676, '0.711(0.026)', 0.753)\n",
      "macro avg support (62.0, '62.0(0.0)', 62.0)\n",
      "weighted avg precision (0.74, '0.755(0.01)', 0.766)\n",
      "weighted avg recall (0.677, '0.713(0.028)', 0.758)\n",
      "weighted avg f1-score (0.672, '0.713(0.03)', 0.76)\n",
      "weighted avg support (62.0, '62.0(0.0)', 62.0)\n",
      "mcc (0.449, '0.464(0.023)', 0.509)\n"
     ]
    }
   ],
   "source": [
    "df = pd.read_csv('data/sem-eval/test.txt', sep='\\t')\n",
    "\n",
    "for label in sorted(df['Label'].unique()):\n",
    "    print(\"#####\" + str(label) + \"#####\")\n",
    "    metrics = []\n",
    "    for path in Path('results/cardiff_tweeteval_bce').glob('*_predictions_*.jsonl'):\n",
    "        data = read_jsonl(path)\n",
    "        data = list(filter(lambda x: x['id_original'].startswith('test'), data))\n",
    "        df['pred'] = [item['pred'] for item in data]\n",
    "        df['gold'] = [item['gold'] for item in data]\n",
    "        metrics.append(evaluate_split(df[df['Label'] == label].to_dict(orient='records')))\n",
    "    compute_metric_stats(metrics)"
   ]
  },
  {
   "cell_type": "code",
   "execution_count": 82,
   "metadata": {},
   "outputs": [
    {
     "name": "stdout",
     "output_type": "stream",
     "text": [
      "#####0#####\n",
      "0 precision (0.831, 0.862, 0.907, 0.027)\n",
      "0 recall (0.668, 0.754, 0.842, 0.066)\n",
      "0 f1-score (0.769, 0.802, 0.837, 0.027)\n",
      "0 support (292.0, 292.0, 292.0, 0.0)\n",
      "1 precision (0.624, 0.675, 0.74, 0.046)\n",
      "1 recall (0.724, 0.8, 0.89, 0.06)\n",
      "1 f1-score (0.719, 0.728, 0.733, 0.005)\n",
      "1 support (181.0, 181.0, 181.0, 0.0)\n",
      "accuracy (0.753, 0.772, 0.797, 0.019)\n",
      "macro avg precision (0.752, 0.768, 0.786, 0.012)\n",
      "macro avg recall (0.767, 0.777, 0.783, 0.006)\n",
      "macro avg f1-score (0.749, 0.765, 0.784, 0.015)\n",
      "macro avg support (473.0, 473.0, 473.0, 0.0)\n",
      "weighted avg precision (0.78, 0.79, 0.799, 0.007)\n",
      "weighted avg recall (0.753, 0.772, 0.797, 0.019)\n",
      "weighted avg f1-score (0.756, 0.774, 0.797, 0.017)\n",
      "weighted avg support (473.0, 473.0, 473.0, 0.0)\n",
      "mcc (0.519, 0.545, 0.569, 0.018)\n",
      "#####2#####\n",
      "0 precision (0.709, 0.755, 0.811, 0.034)\n",
      "0 recall (0.612, 0.722, 0.796, 0.076)\n",
      "0 f1-score (0.698, 0.734, 0.765, 0.028)\n",
      "0 support (49.0, 49.0, 49.0, 0.0)\n",
      "1 precision (0.604, 0.646, 0.688, 0.035)\n",
      "1 recall (0.556, 0.672, 0.806, 0.087)\n",
      "1 f1-score (0.606, 0.654, 0.69, 0.028)\n",
      "1 support (36.0, 36.0, 36.0, 0.0)\n",
      "accuracy (0.682, 0.701, 0.718, 0.014)\n",
      "macro avg precision (0.683, 0.7, 0.712, 0.012)\n",
      "macro avg recall (0.676, 0.697, 0.711, 0.014)\n",
      "macro avg f1-score (0.678, 0.694, 0.711, 0.013)\n",
      "macro avg support (85.0, 85.0, 85.0, 0.0)\n",
      "weighted avg precision (0.691, 0.709, 0.723, 0.013)\n",
      "weighted avg recall (0.682, 0.701, 0.718, 0.014)\n",
      "weighted avg f1-score (0.684, 0.7, 0.718, 0.014)\n",
      "weighted avg support (85.0, 85.0, 85.0, 0.0)\n",
      "mcc (0.363, 0.398, 0.422, 0.025)\n",
      "#####1#####\n",
      "0 precision (0.811, 0.833, 0.849, 0.013)\n",
      "0 recall (0.653, 0.754, 0.811, 0.059)\n",
      "0 f1-score (0.734, 0.79, 0.824, 0.032)\n",
      "0 support (95.0, 95.0, 95.0, 0.0)\n",
      "1 precision (0.633, 0.704, 0.75, 0.043)\n",
      "1 recall (0.739, 0.791, 0.826, 0.03)\n",
      "1 f1-score (0.717, 0.743, 0.766, 0.018)\n",
      "1 support (69.0, 69.0, 69.0, 0.0)\n",
      "accuracy (0.726, 0.77, 0.799, 0.026)\n",
      "macro avg precision (0.736, 0.768, 0.793, 0.021)\n",
      "macro avg recall (0.739, 0.772, 0.797, 0.021)\n",
      "macro avg f1-score (0.725, 0.767, 0.795, 0.025)\n",
      "macro avg support (164.0, 164.0, 164.0, 0.0)\n",
      "weighted avg precision (0.752, 0.779, 0.8, 0.018)\n",
      "weighted avg recall (0.726, 0.77, 0.799, 0.026)\n",
      "weighted avg f1-score (0.727, 0.77, 0.799, 0.026)\n",
      "weighted avg support (164.0, 164.0, 164.0, 0.0)\n",
      "mcc (0.475, 0.541, 0.59, 0.041)\n",
      "#####3#####\n",
      "0 precision (0.812, 0.854, 0.905, 0.034)\n",
      "0 recall (0.514, 0.632, 0.757, 0.088)\n",
      "0 f1-score (0.655, 0.721, 0.789, 0.047)\n",
      "0 support (37.0, 37.0, 37.0, 0.0)\n",
      "1 precision (0.561, 0.61, 0.679, 0.042)\n",
      "1 recall (0.76, 0.832, 0.92, 0.064)\n",
      "1 f1-score (0.691, 0.701, 0.717, 0.009)\n",
      "1 support (25.0, 25.0, 25.0, 0.0)\n",
      "accuracy (0.677, 0.713, 0.758, 0.028)\n",
      "macro avg precision (0.723, 0.732, 0.751, 0.01)\n",
      "macro avg recall (0.717, 0.732, 0.758, 0.014)\n",
      "macro avg f1-score (0.676, 0.711, 0.753, 0.026)\n",
      "macro avg support (62.0, 62.0, 62.0, 0.0)\n",
      "weighted avg precision (0.74, 0.755, 0.766, 0.01)\n",
      "weighted avg recall (0.677, 0.713, 0.758, 0.028)\n",
      "weighted avg f1-score (0.672, 0.713, 0.76, 0.03)\n",
      "weighted avg support (62.0, 62.0, 62.0, 0.0)\n",
      "mcc (0.449, 0.464, 0.509, 0.023)\n"
     ]
    }
   ],
   "source": [
    "df = pd.read_csv('data/sem-eval/test.txt', sep='\\t')\n",
    "\n",
    "for label in df['Label'].unique():\n",
    "    print(\"#####\" + str(label) + \"#####\")\n",
    "    metrics = []\n",
    "    for path in Path('results/cardiff_tweeteval_bce').glob('*_predictions_*.jsonl'):\n",
    "        data = read_jsonl(path)\n",
    "        df['pred'] = [item['pred'] for item in data]\n",
    "        df['gold'] = [item['gold'] for item in data]\n",
    "        metrics.append(evaluate_split(df[df['Label'] == label].to_dict(orient='records')))\n",
    "    compute_metric_stats(metrics)"
   ]
  },
  {
   "cell_type": "code",
   "execution_count": 7,
   "metadata": {},
   "outputs": [
    {
     "name": "stdout",
     "output_type": "stream",
     "text": [
      "0 precision (0.812, '0.843(0.024)', 0.882)\n",
      "0 recall (0.647, '0.741(0.067)', 0.825)\n",
      "0 f1-score (0.746, '0.786(0.028)', 0.818)\n",
      "0 support (473.0, '473.0(0.0)', 473.0)\n",
      "1 precision (0.618, '0.672(0.043)', 0.727)\n",
      "1 recall (0.711, '0.786(0.056)', 0.868)\n",
      "1 f1-score (0.714, '0.721(0.005)', 0.727)\n",
      "1 support (311.0, '311.0(0.0)', 311.0)\n",
      "accuracy (0.735, '0.759(0.019)', 0.779)\n",
      "macro avg precision (0.743, '0.758(0.011)', 0.77)\n",
      "macro avg recall (0.753, '0.764(0.007)', 0.773)\n",
      "macro avg f1-score (0.734, '0.754(0.015)', 0.771)\n",
      "macro avg support (784.0, '784.0(0.0)', 784.0)\n",
      "weighted avg precision (0.765, '0.775(0.006)', 0.781)\n",
      "weighted avg recall (0.735, '0.759(0.019)', 0.779)\n",
      "weighted avg f1-score (0.737, '0.76(0.018)', 0.78)\n",
      "weighted avg support (784.0, '784.0(0.0)', 784.0)\n",
      "mcc (0.496, '0.521(0.017)', 0.542)\n"
     ]
    },
    {
     "data": {
      "text/plain": [
       "<seaborn.axisgrid.FacetGrid at 0x16ea4c2dc60>"
      ]
     },
     "execution_count": 7,
     "metadata": {},
     "output_type": "execute_result"
    },
    {
     "data": {
      "image/png": "[encoded data removed]",
      "text/plain": [
       "<Figure size 500x500 with 1 Axes>"
      ]
     },
     "metadata": {},
     "output_type": "display_data"
    }
   ],
   "source": [
    "metrics = []\n",
    "scores = []\n",
    "for path in Path('results/cardiff_tweeteval_bce').glob('*_predictions_*.jsonl'):\n",
    "    data = read_jsonl(path)\n",
    "    metrics.append(evaluate_split(data))\n",
    "    scores += [item['score'][1] for item in data]\n",
    "compute_metric_stats(metrics)\n",
    "sns.displot(scores)"
   ]
  },
  {
   "cell_type": "code",
   "execution_count": 60,
   "metadata": {},
   "outputs": [
    {
     "data": {
      "text/plain": [
       "count     5.000000\n",
       "mean     20.400000\n",
       "std       3.361547\n",
       "min      16.000000\n",
       "25%      18.000000\n",
       "50%      21.000000\n",
       "75%      23.000000\n",
       "max      24.000000\n",
       "dtype: float64"
      ]
     },
     "execution_count": 60,
     "metadata": {},
     "output_type": "execute_result"
    }
   ],
   "source": [
    "logs = []\n",
    "for path in Path('results/cardiff_tweeteval_bce').glob('*_logs_*.csv'):\n",
    "    logs.append(pd.read_csv(path))\n",
    "pd.Series([len(log) / 2 for log in logs]).describe()"
   ]
  },
  {
   "cell_type": "markdown",
   "metadata": {},
   "source": [
    "## cardiff_epic_mcc"
   ]
  },
  {
   "cell_type": "code",
   "execution_count": 16,
   "metadata": {},
   "outputs": [
    {
     "data": {
      "text/html": [
       "<div>\n",
       "<style scoped>\n",
       "    .dataframe tbody tr th:only-of-type {\n",
       "        vertical-align: middle;\n",
       "    }\n",
       "\n",
       "    .dataframe tbody tr th {\n",
       "        vertical-align: top;\n",
       "    }\n",
       "\n",
       "    .dataframe thead th {\n",
       "        text-align: right;\n",
       "    }\n",
       "</style>\n",
       "<table border=\"1\" class=\"dataframe\">\n",
       "  <thead>\n",
       "    <tr style=\"text-align: right;\">\n",
       "      <th></th>\n",
       "      <th>user</th>\n",
       "      <th>label</th>\n",
       "      <th>timestamp</th>\n",
       "      <th>source</th>\n",
       "      <th>subreddit</th>\n",
       "      <th>id_original</th>\n",
       "      <th>text</th>\n",
       "      <th>parent_id_original</th>\n",
       "      <th>parent_text</th>\n",
       "      <th>Language_instance</th>\n",
       "      <th>Language_variety</th>\n",
       "      <th>Age</th>\n",
       "      <th>Sex</th>\n",
       "      <th>Ethnicity simplified</th>\n",
       "      <th>Country of birth</th>\n",
       "      <th>Country of residence</th>\n",
       "      <th>Nationality</th>\n",
       "      <th>Language_annotator</th>\n",
       "      <th>Student status</th>\n",
       "      <th>Employment status</th>\n",
       "    </tr>\n",
       "  </thead>\n",
       "  <tbody>\n",
       "    <tr>\n",
       "      <th>0</th>\n",
       "      <td>5dcff5909595a10f6241c0f6</td>\n",
       "      <td>iro</td>\n",
       "      <td>2022-11-05 11:11:23</td>\n",
       "      <td>reddit</td>\n",
       "      <td>AskReddit</td>\n",
       "      <td>fj5bt7i</td>\n",
       "      <td>but we should have just named the first genera...</td>\n",
       "      <td>fj59kca</td>\n",
       "      <td>Because the last generation was Gen. Z and the...</td>\n",
       "      <td>en</td>\n",
       "      <td>us</td>\n",
       "      <td>24</td>\n",
       "      <td>Male</td>\n",
       "      <td>White</td>\n",
       "      <td>United Kingdom</td>\n",
       "      <td>United Kingdom</td>\n",
       "      <td>United Kingdom</td>\n",
       "      <td>English</td>\n",
       "      <td>No</td>\n",
       "      <td>Full-Time</td>\n",
       "    </tr>\n",
       "    <tr>\n",
       "      <th>1</th>\n",
       "      <td>55057a56fdf99b5b566a70bb</td>\n",
       "      <td>not</td>\n",
       "      <td>2022-11-05 12:10:00</td>\n",
       "      <td>reddit</td>\n",
       "      <td>AskReddit</td>\n",
       "      <td>fj5bt7i</td>\n",
       "      <td>but we should have just named the first genera...</td>\n",
       "      <td>fj59kca</td>\n",
       "      <td>Because the last generation was Gen. Z and the...</td>\n",
       "      <td>en</td>\n",
       "      <td>us</td>\n",
       "      <td>29</td>\n",
       "      <td>Female</td>\n",
       "      <td>White</td>\n",
       "      <td>United Kingdom</td>\n",
       "      <td>United Kingdom</td>\n",
       "      <td>United Kingdom</td>\n",
       "      <td>English</td>\n",
       "      <td>No</td>\n",
       "      <td>DATA_EXPIRED</td>\n",
       "    </tr>\n",
       "    <tr>\n",
       "      <th>2</th>\n",
       "      <td>5721b3054d5b26001301f651</td>\n",
       "      <td>iro</td>\n",
       "      <td>2022-11-26 13:07:54</td>\n",
       "      <td>reddit</td>\n",
       "      <td>AskReddit</td>\n",
       "      <td>fj5bt7i</td>\n",
       "      <td>but we should have just named the first genera...</td>\n",
       "      <td>fj59kca</td>\n",
       "      <td>Because the last generation was Gen. Z and the...</td>\n",
       "      <td>en</td>\n",
       "      <td>us</td>\n",
       "      <td>33</td>\n",
       "      <td>Male</td>\n",
       "      <td>Asian</td>\n",
       "      <td>Australia</td>\n",
       "      <td>Australia</td>\n",
       "      <td>India</td>\n",
       "      <td>English</td>\n",
       "      <td>No</td>\n",
       "      <td>Full-Time</td>\n",
       "    </tr>\n",
       "    <tr>\n",
       "      <th>3</th>\n",
       "      <td>60e016cd61cd6e8d3d185ff3</td>\n",
       "      <td>not</td>\n",
       "      <td>2022-11-25 18:47:48</td>\n",
       "      <td>reddit</td>\n",
       "      <td>AskReddit</td>\n",
       "      <td>fj5bt7i</td>\n",
       "      <td>but we should have just named the first genera...</td>\n",
       "      <td>fj59kca</td>\n",
       "      <td>Because the last generation was Gen. Z and the...</td>\n",
       "      <td>en</td>\n",
       "      <td>us</td>\n",
       "      <td>41</td>\n",
       "      <td>Female</td>\n",
       "      <td>White</td>\n",
       "      <td>Ireland</td>\n",
       "      <td>Ireland</td>\n",
       "      <td>Ireland</td>\n",
       "      <td>English</td>\n",
       "      <td>No</td>\n",
       "      <td>Part-Time</td>\n",
       "    </tr>\n",
       "    <tr>\n",
       "      <th>4</th>\n",
       "      <td>59fc8aba087f2e0001ead671</td>\n",
       "      <td>not</td>\n",
       "      <td>2022-11-25 18:44:10</td>\n",
       "      <td>reddit</td>\n",
       "      <td>AskReddit</td>\n",
       "      <td>fj5bt7i</td>\n",
       "      <td>but we should have just named the first genera...</td>\n",
       "      <td>fj59kca</td>\n",
       "      <td>Because the last generation was Gen. Z and the...</td>\n",
       "      <td>en</td>\n",
       "      <td>us</td>\n",
       "      <td>42</td>\n",
       "      <td>Female</td>\n",
       "      <td>White</td>\n",
       "      <td>Ireland</td>\n",
       "      <td>Ireland</td>\n",
       "      <td>Ireland</td>\n",
       "      <td>English</td>\n",
       "      <td>No</td>\n",
       "      <td>Full-Time</td>\n",
       "    </tr>\n",
       "  </tbody>\n",
       "</table>\n",
       "</div>"
      ],
      "text/plain": [
       "                       user label            timestamp  source  subreddit  \\\n",
       "0  5dcff5909595a10f6241c0f6   iro  2022-11-05 11:11:23  reddit  AskReddit   \n",
       "1  55057a56fdf99b5b566a70bb   not  2022-11-05 12:10:00  reddit  AskReddit   \n",
       "2  5721b3054d5b26001301f651   iro  2022-11-26 13:07:54  reddit  AskReddit   \n",
       "3  60e016cd61cd6e8d3d185ff3   not  2022-11-25 18:47:48  reddit  AskReddit   \n",
       "4  59fc8aba087f2e0001ead671   not  2022-11-25 18:44:10  reddit  AskReddit   \n",
       "\n",
       "  id_original                                               text  \\\n",
       "0     fj5bt7i  but we should have just named the first genera...   \n",
       "1     fj5bt7i  but we should have just named the first genera...   \n",
       "2     fj5bt7i  but we should have just named the first genera...   \n",
       "3     fj5bt7i  but we should have just named the first genera...   \n",
       "4     fj5bt7i  but we should have just named the first genera...   \n",
       "\n",
       "  parent_id_original                                        parent_text  \\\n",
       "0            fj59kca  Because the last generation was Gen. Z and the...   \n",
       "1            fj59kca  Because the last generation was Gen. Z and the...   \n",
       "2            fj59kca  Because the last generation was Gen. Z and the...   \n",
       "3            fj59kca  Because the last generation was Gen. Z and the...   \n",
       "4            fj59kca  Because the last generation was Gen. Z and the...   \n",
       "\n",
       "  Language_instance Language_variety Age     Sex Ethnicity simplified  \\\n",
       "0                en               us  24    Male                White   \n",
       "1                en               us  29  Female                White   \n",
       "2                en               us  33    Male                Asian   \n",
       "3                en               us  41  Female                White   \n",
       "4                en               us  42  Female                White   \n",
       "\n",
       "  Country of birth Country of residence     Nationality Language_annotator  \\\n",
       "0   United Kingdom       United Kingdom  United Kingdom            English   \n",
       "1   United Kingdom       United Kingdom  United Kingdom            English   \n",
       "2        Australia            Australia           India            English   \n",
       "3          Ireland              Ireland         Ireland            English   \n",
       "4          Ireland              Ireland         Ireland            English   \n",
       "\n",
       "  Student status Employment status  \n",
       "0             No         Full-Time  \n",
       "1             No      DATA_EXPIRED  \n",
       "2             No         Full-Time  \n",
       "3             No         Part-Time  \n",
       "4             No         Full-Time  "
      ]
     },
     "execution_count": 16,
     "metadata": {},
     "output_type": "execute_result"
    }
   ],
   "source": [
    "from src.utils import load_config\n",
    "from datasets import Dataset, load_dataset\n",
    "from src.model import cls_load_epic\n",
    "\n",
    "config = load_config()\n",
    "\n",
    "epic = pd.DataFrame(load_dataset(config['DATASET_NAME'])['train'])\n",
    "epic.head()"
   ]
  },
  {
   "cell_type": "code",
   "execution_count": 8,
   "metadata": {},
   "outputs": [
    {
     "name": "stdout",
     "output_type": "stream",
     "text": [
      "0 precision (0.83, '0.849(0.011)', 0.861)\n",
      "0 recall (0.834, '0.873(0.024)', 0.905)\n",
      "0 f1-score (0.847, '0.86(0.008)', 0.872)\n",
      "0 support (409.0, '412.6(2.059)', 415.0)\n",
      "1 precision (0.511, '0.55(0.027)', 0.586)\n",
      "1 recall (0.411, '0.498(0.05)', 0.562)\n",
      "1 f1-score (0.48, '0.52(0.023)', 0.546)\n",
      "1 support (127.0, '127.8(0.748)', 129.0)\n",
      "accuracy (0.77, '0.784(0.01)', 0.8)\n",
      "macro avg precision (0.686, '0.7(0.012)', 0.721)\n",
      "macro avg recall (0.658, '0.685(0.015)', 0.7)\n",
      "macro avg f1-score (0.673, '0.69(0.012)', 0.709)\n",
      "macro avg support (538.0, '540.4(1.625)', 543.0)\n",
      "weighted avg precision (0.769, '0.778(0.008)', 0.792)\n",
      "weighted avg recall (0.77, '0.784(0.01)', 0.8)\n",
      "weighted avg f1-score (0.773, '0.78(0.008)', 0.795)\n",
      "weighted avg support (538.0, '540.4(1.625)', 543.0)\n",
      "mcc (0.358, '0.384(0.021)', 0.42)\n"
     ]
    },
    {
     "data": {
      "text/plain": [
       "<seaborn.axisgrid.FacetGrid at 0x16ea4a1c1f0>"
      ]
     },
     "execution_count": 8,
     "metadata": {},
     "output_type": "execute_result"
    },
    {
     "data": {
      "image/png": "[encoded data removed]",
      "text/plain": [
       "<Figure size 500x500 with 1 Axes>"
      ]
     },
     "metadata": {},
     "output_type": "display_data"
    }
   ],
   "source": [
    "metrics = []\n",
    "scores = []\n",
    "for path in Path('results/cardiff_epic_mcc').glob('*_predictions_*.jsonl'):\n",
    "    data = read_jsonl(path)\n",
    "    metrics.append(evaluate_split(data))\n",
    "    scores += [item['score'][1] for item in data]\n",
    "compute_metric_stats(metrics)\n",
    "sns.displot(scores)"
   ]
  },
  {
   "cell_type": "code",
   "execution_count": 3,
   "metadata": {},
   "outputs": [
    {
     "data": {
      "text/plain": [
       "count     5.000000\n",
       "mean     19.200000\n",
       "std       3.898718\n",
       "min      15.000000\n",
       "25%      15.000000\n",
       "50%      21.000000\n",
       "75%      22.000000\n",
       "max      23.000000\n",
       "dtype: float64"
      ]
     },
     "execution_count": 3,
     "metadata": {},
     "output_type": "execute_result"
    }
   ],
   "source": [
    "logs = []\n",
    "for path in Path('results/cardiff_epic_mcc').glob('*_logs_*.csv'):\n",
    "    logs.append(pd.read_csv(path))\n",
    "pd.Series([len(log) / 2 for log in logs]).describe()"
   ]
  },
  {
   "cell_type": "code",
   "execution_count": 5,
   "metadata": {},
   "outputs": [
    {
     "data": {
      "text/plain": [
       "count     5.000000\n",
       "mean     14.600000\n",
       "std       5.272571\n",
       "min       6.000000\n",
       "25%      14.000000\n",
       "50%      16.000000\n",
       "75%      17.000000\n",
       "max      20.000000\n",
       "dtype: float64"
      ]
     },
     "execution_count": 5,
     "metadata": {},
     "output_type": "execute_result"
    }
   ],
   "source": [
    "logs = []\n",
    "for path in Path('results/cardiff_epic_bce').glob('*_logs_*.csv'):\n",
    "    logs.append(pd.read_csv(path))\n",
    "pd.Series([len(log) / 2 for log in logs]).describe()"
   ]
  },
  {
   "cell_type": "code",
   "execution_count": 17,
   "metadata": {},
   "outputs": [
    {
     "data": {
      "text/html": [
       "<div>\n",
       "<style scoped>\n",
       "    .dataframe tbody tr th:only-of-type {\n",
       "        vertical-align: middle;\n",
       "    }\n",
       "\n",
       "    .dataframe tbody tr th {\n",
       "        vertical-align: top;\n",
       "    }\n",
       "\n",
       "    .dataframe thead th {\n",
       "        text-align: right;\n",
       "    }\n",
       "</style>\n",
       "<table border=\"1\" class=\"dataframe\">\n",
       "  <thead>\n",
       "    <tr style=\"text-align: right;\">\n",
       "      <th></th>\n",
       "      <th>agreement</th>\n",
       "    </tr>\n",
       "  </thead>\n",
       "  <tbody>\n",
       "    <tr>\n",
       "      <th>count</th>\n",
       "      <td>3000.000000</td>\n",
       "    </tr>\n",
       "    <tr>\n",
       "      <th>mean</th>\n",
       "      <td>0.793947</td>\n",
       "    </tr>\n",
       "    <tr>\n",
       "      <th>std</th>\n",
       "      <td>0.169727</td>\n",
       "    </tr>\n",
       "    <tr>\n",
       "      <th>min</th>\n",
       "      <td>0.500000</td>\n",
       "    </tr>\n",
       "    <tr>\n",
       "      <th>25%</th>\n",
       "      <td>0.600000</td>\n",
       "    </tr>\n",
       "    <tr>\n",
       "      <th>50%</th>\n",
       "      <td>0.800000</td>\n",
       "    </tr>\n",
       "    <tr>\n",
       "      <th>75%</th>\n",
       "      <td>1.000000</td>\n",
       "    </tr>\n",
       "    <tr>\n",
       "      <th>max</th>\n",
       "      <td>1.000000</td>\n",
       "    </tr>\n",
       "  </tbody>\n",
       "</table>\n",
       "</div>"
      ],
      "text/plain": [
       "         agreement\n",
       "count  3000.000000\n",
       "mean      0.793947\n",
       "std       0.169727\n",
       "min       0.500000\n",
       "25%       0.600000\n",
       "50%       0.800000\n",
       "75%       1.000000\n",
       "max       1.000000"
      ]
     },
     "execution_count": 17,
     "metadata": {},
     "output_type": "execute_result"
    }
   ],
   "source": [
    "agreements = [] \n",
    "for id in epic['id_original'].unique():\n",
    "    labels = epic[epic['id_original'] == id]['label']\n",
    "    agreements.append((id, max((labels == 'iro').sum(), (labels == 'not').sum()) / len(labels)))\n",
    "agreements = pd.DataFrame(agreements, columns=['id', 'agreement'])\n",
    "agreements.describe()"
   ]
  },
  {
   "cell_type": "code",
   "execution_count": 20,
   "metadata": {},
   "outputs": [
    {
     "name": "stdout",
     "output_type": "stream",
     "text": [
      "0.5 3000 0.384(0.023)\n",
      "0.6 2750 0.39(0.022)\n",
      "0.7 2038 0.479(0.034)\n",
      "0.8 1673 0.526(0.026)\n",
      "0.9 990 0.567(0.055)\n",
      "1 990 0.567(0.055)\n"
     ]
    }
   ],
   "source": [
    "for r in [.5, .6, .7, .8, .9, 1]:\n",
    "    ids = agreements[agreements['agreement'] >= r]['id'].tolist()\n",
    "    metrics = []\n",
    "    for path in Path('results/cardiff_epic_mcc').glob('*_predictions_*.jsonl'):\n",
    "        data = list(filter(lambda x: x['id_original'] in ids, read_jsonl(path)))\n",
    "        golds, preds = get_golds_preds(data)\n",
    "        metrics.append(matthews_corrcoef(golds, preds))\n",
    "    metrics = pd.Series(metrics).describe()\n",
    "    print(r, len(ids), f\"{round(metrics['mean'], 3)}({round(metrics['std'], 3)})\")"
   ]
  },
  {
   "cell_type": "code",
   "execution_count": 22,
   "metadata": {},
   "outputs": [
    {
     "name": "stdout",
     "output_type": "stream",
     "text": [
      "0.5 3000 0.388(0.077)\n",
      "0.6 2750 0.391(0.075)\n",
      "0.7 2038 0.45(0.102)\n",
      "0.8 1673 0.506(0.104)\n",
      "0.9 990 0.48(0.147)\n",
      "1 990 0.48(0.147)\n"
     ]
    }
   ],
   "source": [
    "for r in [.5, .6, .7, .8, .9, 1]:\n",
    "    ids = agreements[agreements['agreement'] >= r]['id'].tolist()\n",
    "    metrics = []\n",
    "    for path in Path('results/cardiff_epic_bce').glob('*_predictions_*.jsonl'):\n",
    "        data = list(filter(lambda x: x['id_original'] in ids, read_jsonl(path)))\n",
    "        golds, preds = get_golds_preds(data)\n",
    "        metrics.append(matthews_corrcoef(golds, preds))\n",
    "    metrics = pd.Series(metrics).describe()\n",
    "    print(r, len(ids), f\"{round(metrics['mean'], 3)}({round(metrics['std'], 3)})\")"
   ]
  },
  {
   "cell_type": "code",
   "execution_count": 8,
   "metadata": {},
   "outputs": [
    {
     "name": "stdout",
     "output_type": "stream",
     "text": [
      "0 precision (0.891, '0.913(0.019)', 0.935)\n",
      "0 recall (0.909, '0.964(0.04)', 1.0)\n",
      "0 f1-score (0.922, '0.937(0.011)', 0.952)\n",
      "0 support (160.0, '174.4(9.308)', 188.0)\n",
      "1 precision (0.0, '0.219(0.197)', 0.5)\n",
      "1 recall (0.0, '0.165(0.17)', 0.45)\n",
      "1 f1-score (0.0, '0.168(0.153)', 0.4)\n",
      "1 support (16.0, '19.4(2.939)', 23.0)\n",
      "accuracy (0.862, '0.884(0.018)', 0.909)\n",
      "macro avg precision (0.445, '0.566(0.106)', 0.709)\n",
      "macro avg recall (0.5, '0.564(0.066)', 0.679)\n",
      "macro avg f1-score (0.471, '0.553(0.073)', 0.661)\n",
      "macro avg support (176.0, '193.8(12.057)', 211.0)\n",
      "weighted avg precision (0.793, '0.843(0.04)', 0.881)\n",
      "weighted avg recall (0.862, '0.884(0.018)', 0.909)\n",
      "weighted avg f1-score (0.839, '0.86(0.017)', 0.883)\n",
      "weighted avg support (176.0, '193.8(12.057)', 211.0)\n",
      "mcc (0.0, '0.142(0.127)', 0.325)\n"
     ]
    },
    {
     "name": "stderr",
     "output_type": "stream",
     "text": [
      "c:\\Users\\pierr\\.conda\\envs\\irony\\lib\\site-packages\\sklearn\\metrics\\_classification.py:1469: UndefinedMetricWarning: Precision and F-score are ill-defined and being set to 0.0 in labels with no predicted samples. Use `zero_division` parameter to control this behavior.\n",
      "  _warn_prf(average, modifier, msg_start, len(result))\n",
      "c:\\Users\\pierr\\.conda\\envs\\irony\\lib\\site-packages\\sklearn\\metrics\\_classification.py:1469: UndefinedMetricWarning: Precision and F-score are ill-defined and being set to 0.0 in labels with no predicted samples. Use `zero_division` parameter to control this behavior.\n",
      "  _warn_prf(average, modifier, msg_start, len(result))\n",
      "c:\\Users\\pierr\\.conda\\envs\\irony\\lib\\site-packages\\sklearn\\metrics\\_classification.py:1469: UndefinedMetricWarning: Precision and F-score are ill-defined and being set to 0.0 in labels with no predicted samples. Use `zero_division` parameter to control this behavior.\n",
      "  _warn_prf(average, modifier, msg_start, len(result))\n",
      "c:\\Users\\pierr\\.conda\\envs\\irony\\lib\\site-packages\\sklearn\\metrics\\_classification.py:1469: UndefinedMetricWarning: Precision and F-score are ill-defined and being set to 0.0 in labels with no predicted samples. Use `zero_division` parameter to control this behavior.\n",
      "  _warn_prf(average, modifier, msg_start, len(result))\n",
      "c:\\Users\\pierr\\.conda\\envs\\irony\\lib\\site-packages\\sklearn\\metrics\\_classification.py:1469: UndefinedMetricWarning: Precision and F-score are ill-defined and being set to 0.0 in labels with no predicted samples. Use `zero_division` parameter to control this behavior.\n",
      "  _warn_prf(average, modifier, msg_start, len(result))\n",
      "c:\\Users\\pierr\\.conda\\envs\\irony\\lib\\site-packages\\sklearn\\metrics\\_classification.py:1469: UndefinedMetricWarning: Precision and F-score are ill-defined and being set to 0.0 in labels with no predicted samples. Use `zero_division` parameter to control this behavior.\n",
      "  _warn_prf(average, modifier, msg_start, len(result))\n"
     ]
    },
    {
     "data": {
      "text/plain": [
       "<seaborn.axisgrid.FacetGrid at 0x22637515690>"
      ]
     },
     "execution_count": 8,
     "metadata": {},
     "output_type": "execute_result"
    },
    {
     "data": {
      "image/png": "[encoded data removed]",
      "text/plain": [
       "<Figure size 500x500 with 1 Axes>"
      ]
     },
     "metadata": {},
     "output_type": "display_data"
    }
   ],
   "source": [
    "metrics = []\n",
    "scores = []\n",
    "for path in Path('results/cardiff_epic_mcc_high').glob('*_predictions_*.jsonl'):\n",
    "    data = read_jsonl(path)\n",
    "    metrics.append(evaluate_split(data))\n",
    "    scores += [item['score'][1] for item in data]\n",
    "compute_metric_stats(metrics)\n",
    "sns.displot(scores)"
   ]
  },
  {
   "cell_type": "markdown",
   "metadata": {},
   "source": [
    "## cardiff_epic_bce"
   ]
  },
  {
   "cell_type": "code",
   "execution_count": 14,
   "metadata": {},
   "outputs": [
    {
     "ename": "NameError",
     "evalue": "name 'agreements' is not defined",
     "output_type": "error",
     "traceback": [
      "\u001b[1;31m---------------------------------------------------------------------------\u001b[0m",
      "\u001b[1;31mNameError\u001b[0m                                 Traceback (most recent call last)",
      "Cell \u001b[1;32mIn[14], line 2\u001b[0m\n\u001b[0;32m      1\u001b[0m \u001b[38;5;28;01mfor\u001b[39;00m r \u001b[38;5;129;01min\u001b[39;00m [\u001b[38;5;241m.5\u001b[39m, \u001b[38;5;241m.6\u001b[39m, \u001b[38;5;241m.7\u001b[39m, \u001b[38;5;241m.8\u001b[39m, \u001b[38;5;241m.9\u001b[39m, \u001b[38;5;241m1\u001b[39m]:\n\u001b[1;32m----> 2\u001b[0m     ids \u001b[38;5;241m=\u001b[39m \u001b[43magreements\u001b[49m[agreements[\u001b[38;5;124m'\u001b[39m\u001b[38;5;124magreement\u001b[39m\u001b[38;5;124m'\u001b[39m] \u001b[38;5;241m>\u001b[39m\u001b[38;5;241m=\u001b[39m r][\u001b[38;5;124m'\u001b[39m\u001b[38;5;124mid\u001b[39m\u001b[38;5;124m'\u001b[39m]\u001b[38;5;241m.\u001b[39mtolist()\n\u001b[0;32m      3\u001b[0m     metrics \u001b[38;5;241m=\u001b[39m []\n\u001b[0;32m      4\u001b[0m     \u001b[38;5;28;01mfor\u001b[39;00m path \u001b[38;5;129;01min\u001b[39;00m Path(\u001b[38;5;124m'\u001b[39m\u001b[38;5;124mresults/cardiff_epic_bce\u001b[39m\u001b[38;5;124m'\u001b[39m)\u001b[38;5;241m.\u001b[39mglob(\u001b[38;5;124m'\u001b[39m\u001b[38;5;124m*_predictions_*.jsonl\u001b[39m\u001b[38;5;124m'\u001b[39m):\n",
      "\u001b[1;31mNameError\u001b[0m: name 'agreements' is not defined"
     ]
    }
   ],
   "source": [
    "for r in [.5, .6, .7, .8, .9, 1]:\n",
    "    ids = agreements[agreements['agreement'] >= r]['id'].tolist()\n",
    "    metrics = []\n",
    "    for path in Path('results/cardiff_epic_bce').glob('*_predictions_*.jsonl'):\n",
    "        data = list(filter(lambda x: x['id_original'] in ids, read_jsonl(path)))\n",
    "        golds, preds = get_golds_preds(data)\n",
    "        metrics.append(matthews_corrcoef(golds, preds))\n",
    "    print(r, len(ids), len(set(ids)))\n",
    "    \n",
    "    print(pd.Series(metrics).describe()['mean'])\n",
    "    # for item in data:\n",
    "    #     if item['gold'] == 1:\n",
    "    #         labels = epic[epic['id_original'] == item['id_original']]['label']\n",
    "    #         metrics.append((\n",
    "    #             int(item['pred'] == item['gold']),\n",
    "    #             max((labels == 'iro').sum(), (labels == 'not').sum()) / len(labels),\n",
    "    #         ))"
   ]
  },
  {
   "cell_type": "code",
   "execution_count": 9,
   "metadata": {},
   "outputs": [
    {
     "name": "stdout",
     "output_type": "stream",
     "text": [
      "0 precision (0.842, '0.87(0.021)', 0.895)\n",
      "0 recall (0.742, '0.804(0.044)', 0.854)\n",
      "0 f1-score (0.802, '0.835(0.026)', 0.866)\n",
      "0 support (409.0, '412.6(2.059)', 415.0)\n",
      "1 precision (0.427, '0.495(0.053)', 0.568)\n",
      "1 recall (0.488, '0.61(0.077)', 0.695)\n",
      "1 f1-score (0.484, '0.544(0.051)', 0.606)\n",
      "1 support (127.0, '127.8(0.748)', 129.0)\n",
      "accuracy (0.714, '0.758(0.033)', 0.798)\n",
      "macro avg precision (0.637, '0.682(0.034)', 0.723)\n",
      "macro avg recall (0.663, '0.707(0.038)', 0.754)\n",
      "macro avg f1-score (0.644, '0.689(0.035)', 0.732)\n",
      "macro avg support (538.0, '540.4(1.625)', 543.0)\n",
      "weighted avg precision (0.747, '0.781(0.026)', 0.812)\n",
      "weighted avg recall (0.714, '0.758(0.033)', 0.798)\n",
      "weighted avg f1-score (0.726, '0.766(0.029)', 0.801)\n",
      "weighted avg support (538.0, '540.4(1.625)', 543.0)\n",
      "mcc (0.299, '0.388(0.069)', 0.472)\n"
     ]
    },
    {
     "data": {
      "text/plain": [
       "<seaborn.axisgrid.FacetGrid at 0x16ea6cf8a30>"
      ]
     },
     "execution_count": 9,
     "metadata": {},
     "output_type": "execute_result"
    },
    {
     "data": {
      "image/png": "[encoded data removed]",
      "text/plain": [
       "<Figure size 500x500 with 1 Axes>"
      ]
     },
     "metadata": {},
     "output_type": "display_data"
    }
   ],
   "source": [
    "metrics = []\n",
    "scores = []\n",
    "for path in Path('results/cardiff_epic_bce').glob('*_predictions_*.jsonl'):\n",
    "    data = read_jsonl(path)\n",
    "    metrics.append(evaluate_split(data))\n",
    "    scores += [item['score'][1] for item in data]\n",
    "compute_metric_stats(metrics)\n",
    "sns.displot(scores)"
   ]
  },
  {
   "cell_type": "code",
   "execution_count": null,
   "metadata": {},
   "outputs": [],
   "source": []
  }
 ],
 "metadata": {
  "kernelspec": {
   "display_name": "irony",
   "language": "python",
   "name": "python3"
  },
  "language_info": {
   "codemirror_mode": {
    "name": "ipython",
    "version": 3
   },
   "file_extension": ".py",
   "mimetype": "text/x-python",
   "name": "python",
   "nbconvert_exporter": "python",
   "pygments_lexer": "ipython3",
   "version": "3.10.13"
  }
 },
 "nbformat": 4,
 "nbformat_minor": 2
}
