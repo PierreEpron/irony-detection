{
 "cells": [
  {
   "cell_type": "code",
   "execution_count": 1,
   "metadata": {},
   "outputs": [
    {
     "name": "stderr",
     "output_type": "stream",
     "text": [
      "c:\\Users\\subje\\.conda\\envs\\justal\\lib\\site-packages\\tqdm\\auto.py:21: TqdmWarning: IProgress not found. Please update jupyter and ipywidgets. See https://ipywidgets.readthedocs.io/en/stable/user_install.html\n",
      "  from .autonotebook import tqdm as notebook_tqdm\n"
     ]
    }
   ],
   "source": [
    "from src.preprocessing import make_dataset, filter_dataset, split_dataset, iter_splits\n",
    "from datasets import load_dataset\n",
    "import pandas as pd\n",
    "\n",
    "from transformers import AutoTokenizer\n",
    "\n",
    "from src.utils import write_jsonl"
   ]
  },
  {
   "cell_type": "code",
   "execution_count": 2,
   "metadata": {},
   "outputs": [],
   "source": [
    "DATASET_NAME = \"CreativeLang/EPIC_Irony\"\n",
    "MODEL_NAME = \"cardiffnlp/twitter-roberta-base-irony\"\n",
    "SPLITS_PATH = \"./results/splits.jsonl\""
   ]
  },
  {
   "cell_type": "code",
   "execution_count": 3,
   "metadata": {},
   "outputs": [],
   "source": [
    "df = make_dataset(pd.DataFrame(load_dataset(DATASET_NAME)['train']))"
   ]
  },
  {
   "cell_type": "code",
   "execution_count": 4,
   "metadata": {},
   "outputs": [],
   "source": [
    "tokenizer = AutoTokenizer.from_pretrained(MODEL_NAME)"
   ]
  },
  {
   "cell_type": "code",
   "execution_count": 5,
   "metadata": {},
   "outputs": [],
   "source": [
    "df = filter_dataset(df, tokenizer)"
   ]
  },
  {
   "cell_type": "code",
   "execution_count": 6,
   "metadata": {},
   "outputs": [],
   "source": [
    "write_jsonl(SPLITS_PATH, split_dataset(df))"
   ]
  },
  {
   "cell_type": "code",
   "execution_count": 9,
   "metadata": {},
   "outputs": [
    {
     "name": "stdout",
     "output_type": "stream",
     "text": [
      "1652 552 550 1535787943310176256\n",
      "1652 552 550 1536675783825055750\n",
      "1652 552 550 1536732860501135361\n",
      "1652 552 550 1535787943310176256\n",
      "1652 552 550 1535259618838036481\n"
     ]
    }
   ],
   "source": [
    "for train, val, test in iter_splits(SPLITS_PATH,df):\n",
    "    print(len(train), len(val), len(test), train[2]['id_original'])"
   ]
  }
 ],
 "metadata": {
  "kernelspec": {
   "display_name": "justal",
   "language": "python",
   "name": "python3"
  },
  "language_info": {
   "codemirror_mode": {
    "name": "ipython",
    "version": 3
   },
   "file_extension": ".py",
   "mimetype": "text/x-python",
   "name": "python",
   "nbconvert_exporter": "python",
   "pygments_lexer": "ipython3",
   "version": "3.10.11"
  }
 },
 "nbformat": 4,
 "nbformat_minor": 2
}
